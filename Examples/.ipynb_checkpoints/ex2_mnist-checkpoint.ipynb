{
 "cells": [
  {
   "cell_type": "code",
   "execution_count": 1,
   "metadata": {
    "collapsed": false
   },
   "outputs": [],
   "source": [
    "%matplotlib inline\n",
    "\n",
    "import numpy as np\n",
    "from sklearn.datasets import load_boston\n",
    "from sklearn.utils import shuffle, resample\n",
    "import matplotlib.pyplot as plt\n",
    "import gzip\n",
    "import pickle\n",
    "import sys, os\n",
    "\n",
    "sys.path.append(os.path.dirname(os.path.dirname(os.path.abspath('__file__'))))\n",
    "from miniflow import *"
   ]
  },
  {
   "cell_type": "code",
   "execution_count": 2,
   "metadata": {
    "collapsed": true
   },
   "outputs": [],
   "source": [
    "train_img_file = '../mnist_data/train-images-idx3-ubyte.gz'\n",
    "train_label_file = '../mnist_data/train-labels-idx1-ubyte.gz'\n",
    "test_img_file = '../mnist_data/t10k-images-idx3-ubyte.gz'\n",
    "test_label_file = '../mnist_data/t10k-labels-idx1-ubyte.gz'\n",
    "\n",
    "save_file = '../mnist_data/mnist.pkl'"
   ]
  },
  {
   "cell_type": "code",
   "execution_count": 3,
   "metadata": {
    "collapsed": true
   },
   "outputs": [],
   "source": [
    "def read_image(fname):\n",
    "    with gzip.open(fname, 'rb') as f:\n",
    "        data = np.frombuffer(f.read(), np.uint8, offset=16)\n",
    "    data = data.reshape(-1, 784)\n",
    "    \n",
    "    return data\n",
    "\n",
    "def read_label(fname):\n",
    "    with gzip.open(fname, 'rb') as f:\n",
    "        data = np.frombuffer(f.read(), np.uint8, offset=8)\n",
    "        \n",
    "    return data\n",
    "\n",
    "def create_pkl(save_file, data):\n",
    "    if os.path.exists(save_file):\n",
    "        return\n",
    "    \n",
    "    with open(save_file, 'wb') as f:\n",
    "        pickle.dump(data, f)"
   ]
  },
  {
   "cell_type": "code",
   "execution_count": 4,
   "metadata": {
    "collapsed": false
   },
   "outputs": [],
   "source": [
    "mnist_data = {}\n",
    "mnist_data['train_img'] = read_image(train_img_file)\n",
    "mnist_data['train_label'] = read_label(train_label_file)\n",
    "mnist_data['test_img'] = read_image(test_img_file)\n",
    "mnist_data['test_label'] = read_label(test_label_file)\n",
    "\n",
    "create_pkl(save_file, mnist_data)"
   ]
  },
  {
   "cell_type": "code",
   "execution_count": 5,
   "metadata": {
    "collapsed": true
   },
   "outputs": [],
   "source": [
    "# Load data\n",
    "with open(save_file, 'rb') as f:\n",
    "    data = pickle.load(f)\n",
    "\n",
    "X_train, y_train = data['train_img'], data['train_label']\n",
    "X_test, y_test = data['test_img'], data['test_label']"
   ]
  },
  {
   "cell_type": "code",
   "execution_count": 6,
   "metadata": {
    "collapsed": true
   },
   "outputs": [],
   "source": [
    "def normalized(data):\n",
    "    data = data.astype(np.float32)\n",
    "    return data / 255."
   ]
  },
  {
   "cell_type": "code",
   "execution_count": 7,
   "metadata": {
    "collapsed": true
   },
   "outputs": [],
   "source": [
    "# Normalized data\n",
    "X_train = normalized(X_train)\n",
    "X_test = normalized(X_test)"
   ]
  },
  {
   "cell_type": "code",
   "execution_count": 8,
   "metadata": {
    "collapsed": true
   },
   "outputs": [],
   "source": [
    "def one_hot(data, n):\n",
    "    one_hot_encoding = np.zeros([data.shape[-1], n])\n",
    "    one_hot_encoding[np.arange(data.shape[-1]), data] = 1 \n",
    "    \n",
    "    return one_hot_encoding"
   ]
  },
  {
   "cell_type": "code",
   "execution_count": 9,
   "metadata": {
    "collapsed": true
   },
   "outputs": [],
   "source": [
    "#y_train = one_hot(y_train, 10)\n",
    "#y_test = one_hot(y_test, 10)"
   ]
  },
  {
   "cell_type": "code",
   "execution_count": 10,
   "metadata": {
    "collapsed": false
   },
   "outputs": [
    {
     "name": "stdout",
     "output_type": "stream",
     "text": [
      "Train:  (54000, 784) (54000,)\n",
      "Test:  (10000, 784) (10000,)\n",
      "Validation:  (6000, 784) (6000,)\n"
     ]
    }
   ],
   "source": [
    "# Split data\n",
    "t = int(X_train.shape[0] * 0.9)\n",
    "X_train, X_validation = X_train[:t], X_train[t:]\n",
    "y_train, y_validation = y_train[:t], y_train[t:]\n",
    "\n",
    "print(\"Train: \", X_train.shape, y_train.shape)\n",
    "print(\"Test: \", X_test.shape, y_test.shape)\n",
    "print(\"Validation: \", X_validation.shape, y_validation.shape)"
   ]
  },
  {
   "cell_type": "code",
   "execution_count": 11,
   "metadata": {
    "collapsed": true
   },
   "outputs": [],
   "source": [
    "n_input = X_train.shape[1]\n",
    "n_output = 10\n",
    "n_hidden1 = 64\n",
    "n_hidden2 = 128"
   ]
  },
  {
   "cell_type": "code",
   "execution_count": 12,
   "metadata": {
    "collapsed": true
   },
   "outputs": [],
   "source": [
    "W1_ = np.random.randn(n_input, n_hidden1)\n",
    "b1_ = np.random.randn(n_hidden1)\n",
    "\n",
    "W2_ = np.random.randn(n_hidden1, n_hidden2)\n",
    "b2_ = np.random.randn(n_hidden2)\n",
    "\n",
    "W3_ = np.random.randn(n_hidden2, n_output)\n",
    "b3_ = np.random.randn(n_output)"
   ]
  },
  {
   "cell_type": "code",
   "execution_count": 13,
   "metadata": {
    "collapsed": true
   },
   "outputs": [],
   "source": [
    "X, y = Input(name='X'), Input(name='y')  \n",
    "W1, b1 = Input(name='W1'), Input(name='b1')  \n",
    "W2, b2 = Input(name='W2'), Input(name='b2')  \n",
    "W3, b3 = Input(name='W3'), Input(name='b3')  "
   ]
  },
  {
   "cell_type": "code",
   "execution_count": 14,
   "metadata": {
    "collapsed": true
   },
   "outputs": [],
   "source": [
    "l1 = Linear(X, W1, b1, name='l1')\n",
    "s1 = Sigmoid(l1, name='s1')\n",
    "l2 = Linear(s1, W2, b2, name='l2')\n",
    "s2 = Sigmoid(l2, name='s2')\n",
    "l3 = Linear(s2, W3, b3, name='l3')\n",
    "cost = SoftmaxCrossEntropy(y, l3, name='loss')"
   ]
  },
  {
   "cell_type": "code",
   "execution_count": 15,
   "metadata": {
    "collapsed": true
   },
   "outputs": [],
   "source": [
    "feed_dict = {\n",
    "    X: X_train,\n",
    "    y: y_train,\n",
    "    W1: W1_,\n",
    "    b1: b1_,\n",
    "    W2: W2_,\n",
    "    b2: b2_,\n",
    "    W3: W3_,\n",
    "    b3: b3_\n",
    "}"
   ]
  },
  {
   "cell_type": "code",
   "execution_count": 16,
   "metadata": {
    "collapsed": true
   },
   "outputs": [],
   "source": [
    "# Hyperparameter\n",
    "epochs = 200\n",
    "lr = 0.001\n",
    "batch_size = 100"
   ]
  },
  {
   "cell_type": "code",
   "execution_count": 17,
   "metadata": {
    "collapsed": true
   },
   "outputs": [],
   "source": [
    "m = X_train.shape[0]\n",
    "steps_per_epoch = m // batch_size\n",
    "graph = topological_sort(feed_dict)\n",
    "trainables = [W1, b1, W2, b2, W3, b3]\n",
    "losses = {'train': [], 'validation': []}"
   ]
  },
  {
   "cell_type": "code",
   "execution_count": 18,
   "metadata": {
    "collapsed": false
   },
   "outputs": [
    {
     "name": "stdout",
     "output_type": "stream",
     "text": [
      "Epoch: 1, Train Loss: 10.889, Validation Loss: 7.690\n",
      "Epoch: 2, Train Loss: 6.664, Validation Loss: 5.846\n",
      "Epoch: 3, Train Loss: 5.333, Validation Loss: 4.905\n",
      "Epoch: 4, Train Loss: 4.596, Validation Loss: 4.251\n",
      "Epoch: 5, Train Loss: 3.964, Validation Loss: 3.688\n",
      "Epoch: 6, Train Loss: 3.517, Validation Loss: 3.316\n",
      "Epoch: 7, Train Loss: 3.227, Validation Loss: 3.086\n",
      "Epoch: 8, Train Loss: 3.013, Validation Loss: 2.899\n",
      "Epoch: 9, Train Loss: 2.880, Validation Loss: 2.733\n",
      "Epoch: 10, Train Loss: 2.718, Validation Loss: 2.585\n",
      "Epoch: 11, Train Loss: 2.587, Validation Loss: 2.454\n",
      "Epoch: 12, Train Loss: 2.480, Validation Loss: 2.336\n",
      "Epoch: 13, Train Loss: 2.359, Validation Loss: 2.230\n",
      "Epoch: 14, Train Loss: 2.271, Validation Loss: 2.135\n",
      "Epoch: 15, Train Loss: 2.170, Validation Loss: 2.049\n",
      "Epoch: 16, Train Loss: 2.103, Validation Loss: 1.972\n",
      "Epoch: 17, Train Loss: 2.025, Validation Loss: 1.901\n",
      "Epoch: 18, Train Loss: 1.981, Validation Loss: 1.836\n",
      "Epoch: 19, Train Loss: 1.903, Validation Loss: 1.777\n",
      "Epoch: 20, Train Loss: 1.853, Validation Loss: 1.722\n",
      "Epoch: 21, Train Loss: 1.809, Validation Loss: 1.671\n",
      "Epoch: 22, Train Loss: 1.748, Validation Loss: 1.625\n",
      "Epoch: 23, Train Loss: 1.711, Validation Loss: 1.583\n",
      "Epoch: 24, Train Loss: 1.662, Validation Loss: 1.543\n",
      "Epoch: 25, Train Loss: 1.635, Validation Loss: 1.506\n",
      "Epoch: 26, Train Loss: 1.613, Validation Loss: 1.471\n",
      "Epoch: 27, Train Loss: 1.571, Validation Loss: 1.440\n",
      "Epoch: 28, Train Loss: 1.523, Validation Loss: 1.410\n",
      "Epoch: 29, Train Loss: 1.510, Validation Loss: 1.382\n",
      "Epoch: 30, Train Loss: 1.500, Validation Loss: 1.356\n",
      "Epoch: 31, Train Loss: 1.468, Validation Loss: 1.331\n",
      "Epoch: 32, Train Loss: 1.433, Validation Loss: 1.307\n",
      "Epoch: 33, Train Loss: 1.418, Validation Loss: 1.286\n",
      "Epoch: 34, Train Loss: 1.387, Validation Loss: 1.266\n",
      "Epoch: 35, Train Loss: 1.382, Validation Loss: 1.246\n",
      "Epoch: 36, Train Loss: 1.357, Validation Loss: 1.226\n",
      "Epoch: 37, Train Loss: 1.334, Validation Loss: 1.210\n",
      "Epoch: 38, Train Loss: 1.317, Validation Loss: 1.193\n",
      "Epoch: 39, Train Loss: 1.306, Validation Loss: 1.177\n",
      "Epoch: 40, Train Loss: 1.298, Validation Loss: 1.161\n",
      "Epoch: 41, Train Loss: 1.276, Validation Loss: 1.146\n",
      "Epoch: 42, Train Loss: 1.265, Validation Loss: 1.132\n",
      "Epoch: 43, Train Loss: 1.243, Validation Loss: 1.119\n",
      "Epoch: 44, Train Loss: 1.220, Validation Loss: 1.106\n",
      "Epoch: 45, Train Loss: 1.210, Validation Loss: 1.094\n",
      "Epoch: 46, Train Loss: 1.201, Validation Loss: 1.083\n",
      "Epoch: 47, Train Loss: 1.198, Validation Loss: 1.071\n",
      "Epoch: 48, Train Loss: 1.188, Validation Loss: 1.060\n",
      "Epoch: 49, Train Loss: 1.175, Validation Loss: 1.050\n",
      "Epoch: 50, Train Loss: 1.174, Validation Loss: 1.040\n",
      "Epoch: 51, Train Loss: 1.151, Validation Loss: 1.030\n",
      "Epoch: 52, Train Loss: 1.141, Validation Loss: 1.020\n",
      "Epoch: 53, Train Loss: 1.141, Validation Loss: 1.011\n",
      "Epoch: 54, Train Loss: 1.125, Validation Loss: 1.002\n",
      "Epoch: 55, Train Loss: 1.117, Validation Loss: 0.994\n",
      "Epoch: 56, Train Loss: 1.099, Validation Loss: 0.985\n",
      "Epoch: 57, Train Loss: 1.097, Validation Loss: 0.978\n",
      "Epoch: 58, Train Loss: 1.102, Validation Loss: 0.969\n",
      "Epoch: 59, Train Loss: 1.083, Validation Loss: 0.962\n",
      "Epoch: 60, Train Loss: 1.081, Validation Loss: 0.954\n",
      "Epoch: 61, Train Loss: 1.073, Validation Loss: 0.947\n",
      "Epoch: 62, Train Loss: 1.071, Validation Loss: 0.940\n",
      "Epoch: 63, Train Loss: 1.051, Validation Loss: 0.934\n",
      "Epoch: 64, Train Loss: 1.046, Validation Loss: 0.927\n",
      "Epoch: 65, Train Loss: 1.042, Validation Loss: 0.920\n",
      "Epoch: 66, Train Loss: 1.040, Validation Loss: 0.914\n",
      "Epoch: 67, Train Loss: 1.025, Validation Loss: 0.908\n",
      "Epoch: 68, Train Loss: 1.024, Validation Loss: 0.902\n",
      "Epoch: 69, Train Loss: 1.020, Validation Loss: 0.896\n",
      "Epoch: 70, Train Loss: 1.010, Validation Loss: 0.890\n",
      "Epoch: 71, Train Loss: 0.994, Validation Loss: 0.884\n",
      "Epoch: 72, Train Loss: 0.996, Validation Loss: 0.879\n",
      "Epoch: 73, Train Loss: 1.003, Validation Loss: 0.873\n",
      "Epoch: 74, Train Loss: 0.991, Validation Loss: 0.869\n",
      "Epoch: 75, Train Loss: 0.985, Validation Loss: 0.864\n",
      "Epoch: 76, Train Loss: 0.979, Validation Loss: 0.859\n",
      "Epoch: 77, Train Loss: 0.969, Validation Loss: 0.854\n",
      "Epoch: 78, Train Loss: 0.972, Validation Loss: 0.849\n",
      "Epoch: 79, Train Loss: 0.965, Validation Loss: 0.844\n",
      "Epoch: 80, Train Loss: 0.961, Validation Loss: 0.840\n",
      "Epoch: 81, Train Loss: 0.951, Validation Loss: 0.836\n",
      "Epoch: 82, Train Loss: 0.951, Validation Loss: 0.831\n",
      "Epoch: 83, Train Loss: 0.947, Validation Loss: 0.827\n",
      "Epoch: 84, Train Loss: 0.952, Validation Loss: 0.822\n",
      "Epoch: 85, Train Loss: 0.932, Validation Loss: 0.819\n",
      "Epoch: 86, Train Loss: 0.922, Validation Loss: 0.815\n",
      "Epoch: 87, Train Loss: 0.925, Validation Loss: 0.811\n",
      "Epoch: 88, Train Loss: 0.921, Validation Loss: 0.807\n",
      "Epoch: 89, Train Loss: 0.912, Validation Loss: 0.803\n",
      "Epoch: 90, Train Loss: 0.916, Validation Loss: 0.799\n",
      "Epoch: 91, Train Loss: 0.906, Validation Loss: 0.795\n",
      "Epoch: 92, Train Loss: 0.909, Validation Loss: 0.791\n",
      "Epoch: 93, Train Loss: 0.910, Validation Loss: 0.788\n",
      "Epoch: 94, Train Loss: 0.902, Validation Loss: 0.784\n",
      "Epoch: 95, Train Loss: 0.901, Validation Loss: 0.781\n",
      "Epoch: 96, Train Loss: 0.888, Validation Loss: 0.777\n",
      "Epoch: 97, Train Loss: 0.883, Validation Loss: 0.774\n",
      "Epoch: 98, Train Loss: 0.887, Validation Loss: 0.770\n",
      "Epoch: 99, Train Loss: 0.876, Validation Loss: 0.767\n",
      "Epoch: 100, Train Loss: 0.885, Validation Loss: 0.764\n",
      "Epoch: 101, Train Loss: 0.868, Validation Loss: 0.761\n",
      "Epoch: 102, Train Loss: 0.868, Validation Loss: 0.758\n",
      "Epoch: 103, Train Loss: 0.865, Validation Loss: 0.755\n",
      "Epoch: 104, Train Loss: 0.881, Validation Loss: 0.751\n",
      "Epoch: 105, Train Loss: 0.861, Validation Loss: 0.749\n",
      "Epoch: 106, Train Loss: 0.858, Validation Loss: 0.746\n",
      "Epoch: 107, Train Loss: 0.845, Validation Loss: 0.743\n",
      "Epoch: 108, Train Loss: 0.841, Validation Loss: 0.741\n",
      "Epoch: 109, Train Loss: 0.846, Validation Loss: 0.737\n",
      "Epoch: 110, Train Loss: 0.843, Validation Loss: 0.734\n",
      "Epoch: 111, Train Loss: 0.842, Validation Loss: 0.732\n",
      "Epoch: 112, Train Loss: 0.842, Validation Loss: 0.729\n",
      "Epoch: 113, Train Loss: 0.835, Validation Loss: 0.726\n",
      "Epoch: 114, Train Loss: 0.828, Validation Loss: 0.724\n",
      "Epoch: 115, Train Loss: 0.830, Validation Loss: 0.721\n",
      "Epoch: 116, Train Loss: 0.827, Validation Loss: 0.719\n",
      "Epoch: 117, Train Loss: 0.824, Validation Loss: 0.716\n",
      "Epoch: 118, Train Loss: 0.829, Validation Loss: 0.714\n",
      "Epoch: 119, Train Loss: 0.826, Validation Loss: 0.712\n",
      "Epoch: 120, Train Loss: 0.807, Validation Loss: 0.709\n",
      "Epoch: 121, Train Loss: 0.823, Validation Loss: 0.707\n",
      "Epoch: 122, Train Loss: 0.814, Validation Loss: 0.704\n",
      "Epoch: 123, Train Loss: 0.805, Validation Loss: 0.702\n",
      "Epoch: 124, Train Loss: 0.801, Validation Loss: 0.700\n",
      "Epoch: 125, Train Loss: 0.794, Validation Loss: 0.697\n",
      "Epoch: 126, Train Loss: 0.793, Validation Loss: 0.695\n",
      "Epoch: 127, Train Loss: 0.801, Validation Loss: 0.693\n",
      "Epoch: 128, Train Loss: 0.802, Validation Loss: 0.691\n",
      "Epoch: 129, Train Loss: 0.796, Validation Loss: 0.689\n",
      "Epoch: 130, Train Loss: 0.796, Validation Loss: 0.687\n",
      "Epoch: 131, Train Loss: 0.791, Validation Loss: 0.685\n",
      "Epoch: 132, Train Loss: 0.791, Validation Loss: 0.682\n",
      "Epoch: 133, Train Loss: 0.786, Validation Loss: 0.681\n",
      "Epoch: 134, Train Loss: 0.785, Validation Loss: 0.678\n",
      "Epoch: 135, Train Loss: 0.792, Validation Loss: 0.676\n",
      "Epoch: 136, Train Loss: 0.778, Validation Loss: 0.674\n",
      "Epoch: 137, Train Loss: 0.770, Validation Loss: 0.673\n",
      "Epoch: 138, Train Loss: 0.773, Validation Loss: 0.670\n",
      "Epoch: 139, Train Loss: 0.777, Validation Loss: 0.668\n",
      "Epoch: 140, Train Loss: 0.774, Validation Loss: 0.667\n",
      "Epoch: 141, Train Loss: 0.773, Validation Loss: 0.665\n",
      "Epoch: 142, Train Loss: 0.771, Validation Loss: 0.663\n",
      "Epoch: 143, Train Loss: 0.770, Validation Loss: 0.661\n",
      "Epoch: 144, Train Loss: 0.759, Validation Loss: 0.659\n",
      "Epoch: 145, Train Loss: 0.758, Validation Loss: 0.657\n",
      "Epoch: 146, Train Loss: 0.757, Validation Loss: 0.656\n",
      "Epoch: 147, Train Loss: 0.751, Validation Loss: 0.654\n",
      "Epoch: 148, Train Loss: 0.758, Validation Loss: 0.652\n",
      "Epoch: 149, Train Loss: 0.743, Validation Loss: 0.650\n",
      "Epoch: 150, Train Loss: 0.748, Validation Loss: 0.649\n",
      "Epoch: 151, Train Loss: 0.736, Validation Loss: 0.647\n",
      "Epoch: 152, Train Loss: 0.749, Validation Loss: 0.645\n",
      "Epoch: 153, Train Loss: 0.749, Validation Loss: 0.644\n",
      "Epoch: 154, Train Loss: 0.748, Validation Loss: 0.642\n",
      "Epoch: 155, Train Loss: 0.746, Validation Loss: 0.640\n",
      "Epoch: 156, Train Loss: 0.741, Validation Loss: 0.639\n",
      "Epoch: 157, Train Loss: 0.740, Validation Loss: 0.637\n",
      "Epoch: 158, Train Loss: 0.738, Validation Loss: 0.636\n",
      "Epoch: 159, Train Loss: 0.727, Validation Loss: 0.634\n",
      "Epoch: 160, Train Loss: 0.733, Validation Loss: 0.633\n",
      "Epoch: 161, Train Loss: 0.731, Validation Loss: 0.631\n",
      "Epoch: 162, Train Loss: 0.726, Validation Loss: 0.630\n",
      "Epoch: 163, Train Loss: 0.726, Validation Loss: 0.628\n",
      "Epoch: 164, Train Loss: 0.721, Validation Loss: 0.627\n",
      "Epoch: 165, Train Loss: 0.729, Validation Loss: 0.625\n",
      "Epoch: 166, Train Loss: 0.730, Validation Loss: 0.624\n",
      "Epoch: 167, Train Loss: 0.721, Validation Loss: 0.622\n",
      "Epoch: 168, Train Loss: 0.718, Validation Loss: 0.621\n",
      "Epoch: 169, Train Loss: 0.718, Validation Loss: 0.619\n",
      "Epoch: 170, Train Loss: 0.723, Validation Loss: 0.618\n",
      "Epoch: 171, Train Loss: 0.717, Validation Loss: 0.617\n",
      "Epoch: 172, Train Loss: 0.702, Validation Loss: 0.615\n",
      "Epoch: 173, Train Loss: 0.709, Validation Loss: 0.614\n",
      "Epoch: 174, Train Loss: 0.712, Validation Loss: 0.612\n",
      "Epoch: 175, Train Loss: 0.705, Validation Loss: 0.611\n",
      "Epoch: 176, Train Loss: 0.707, Validation Loss: 0.610\n",
      "Epoch: 177, Train Loss: 0.706, Validation Loss: 0.608\n",
      "Epoch: 178, Train Loss: 0.705, Validation Loss: 0.607\n",
      "Epoch: 179, Train Loss: 0.702, Validation Loss: 0.606\n",
      "Epoch: 180, Train Loss: 0.695, Validation Loss: 0.604\n",
      "Epoch: 181, Train Loss: 0.701, Validation Loss: 0.603\n",
      "Epoch: 182, Train Loss: 0.697, Validation Loss: 0.602\n",
      "Epoch: 183, Train Loss: 0.691, Validation Loss: 0.601\n",
      "Epoch: 184, Train Loss: 0.692, Validation Loss: 0.600\n",
      "Epoch: 185, Train Loss: 0.691, Validation Loss: 0.598\n",
      "Epoch: 186, Train Loss: 0.690, Validation Loss: 0.597\n",
      "Epoch: 187, Train Loss: 0.689, Validation Loss: 0.596\n",
      "Epoch: 188, Train Loss: 0.680, Validation Loss: 0.595\n",
      "Epoch: 189, Train Loss: 0.681, Validation Loss: 0.594\n",
      "Epoch: 190, Train Loss: 0.688, Validation Loss: 0.592\n",
      "Epoch: 191, Train Loss: 0.691, Validation Loss: 0.591\n",
      "Epoch: 192, Train Loss: 0.679, Validation Loss: 0.590\n",
      "Epoch: 193, Train Loss: 0.683, Validation Loss: 0.589\n",
      "Epoch: 194, Train Loss: 0.674, Validation Loss: 0.588\n",
      "Epoch: 195, Train Loss: 0.680, Validation Loss: 0.587\n",
      "Epoch: 196, Train Loss: 0.684, Validation Loss: 0.585\n",
      "Epoch: 197, Train Loss: 0.678, Validation Loss: 0.584\n",
      "Epoch: 198, Train Loss: 0.667, Validation Loss: 0.583\n",
      "Epoch: 199, Train Loss: 0.679, Validation Loss: 0.582\n",
      "Epoch: 200, Train Loss: 0.669, Validation Loss: 0.581\n"
     ]
    }
   ],
   "source": [
    "# Training\n",
    "for i in range(epochs):\n",
    "    train_loss = 0\n",
    "    val_loss = 0\n",
    "    for j in range(steps_per_epoch):\n",
    "        X_batch, y_batch = resample(X_train, y_train, n_samples=batch_size)\n",
    "        X.value, y.value = X_batch, y_batch\n",
    "        \n",
    "        forward_and_backward(graph)\n",
    "        sgd_update(trainables, lr)\n",
    "        train_loss += graph[-1].value\n",
    "        \n",
    "    train_loss = train_loss / steps_per_epoch\n",
    "    losses['train'].append(train_loss)\n",
    "    \n",
    "    X.value, y.value = X_validation, y_validation\n",
    "    forward_and_backward(graph, training=False)\n",
    "    val_loss = graph[-1].value\n",
    "    losses['validation'].append(val_loss)\n",
    "    \n",
    "    #if (i+1) % batch_size == 0:\n",
    "    print(\"Epoch: {}, Train Loss: {:.3f}, Validation Loss: {:.3f}\".format(i+1, train_loss, val_loss))"
   ]
  },
  {
   "cell_type": "code",
   "execution_count": 19,
   "metadata": {
    "collapsed": false
   },
   "outputs": [
    {
     "data": {
      "text/plain": [
       "<matplotlib.legend.Legend at 0x11d755eb8>"
      ]
     },
     "execution_count": 19,
     "metadata": {},
     "output_type": "execute_result"
    },
    {
     "data": {
      "image/png": "[encoded data removed]",
      "text/plain": [
       "<matplotlib.figure.Figure at 0x1110ca550>"
      ]
     },
     "metadata": {},
     "output_type": "display_data"
    }
   ],
   "source": [
    "fig, ax = plt.subplots()\n",
    "x = np.arange(len(losses['train']))\n",
    "ax.plot(x, losses['train'], label='Train')\n",
    "ax.plot(x, losses['validation'], label='Validation')\n",
    "ax.legend()"
   ]
  },
  {
   "cell_type": "code",
   "execution_count": 36,
   "metadata": {
    "collapsed": false
   },
   "outputs": [
    {
     "name": "stdout",
     "output_type": "stream",
     "text": [
      "Test loss: 0.662\n",
      "Accuracy: 0.791\n"
     ]
    }
   ],
   "source": [
    "# Test\n",
    "feed_dict[X] = X_test\n",
    "feed_dict[y] = y_test\n",
    "\n",
    "graph = topological_sort(feed_dict)\n",
    "forward_and_backward(graph, training=False)\n",
    "loss = graph[-1].value\n",
    "prediction = graph[-2].value.argmax(axis=1)\n",
    "accuracy = prediction == y_test\n",
    "accuracy = np.sum(accuracy) / accuracy.shape[0]\n",
    "\n",
    "print(\"Test loss: {:.3f}\".format(loss))\n",
    "print(\"Accuracy: {:.3f}\".format(accuracy))"
   ]
  }
 ],
 "metadata": {
  "kernelspec": {
   "display_name": "Python 3",
   "language": "python",
   "name": "python3"
  },
  "language_info": {
   "codemirror_mode": {
    "name": "ipython",
    "version": 3
   },
   "file_extension": ".py",
   "mimetype": "text/x-python",
   "name": "python",
   "nbconvert_exporter": "python",
   "pygments_lexer": "ipython3",
   "version": "3.6.0"
  }
 },
 "nbformat": 4,
 "nbformat_minor": 2
}
