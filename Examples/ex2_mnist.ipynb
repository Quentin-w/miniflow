{
 "cells": [
  {
   "cell_type": "code",
   "execution_count": 1,
   "metadata": {
    "collapsed": false
   },
   "outputs": [],
   "source": [
    "%matplotlib inline\n",
    "\n",
    "import numpy as np\n",
    "from sklearn.datasets import load_boston\n",
    "from sklearn.utils import shuffle, resample\n",
    "import matplotlib.pyplot as plt\n",
    "import urllib.request as req\n",
    "import gzip\n",
    "import pickle\n",
    "import sys, os\n",
    "\n",
    "sys.path.append(os.path.dirname(os.path.dirname(os.path.abspath('__file__'))))\n",
    "from miniflow import *"
   ]
  },
  {
   "cell_type": "code",
   "execution_count": 2,
   "metadata": {
    "collapsed": true
   },
   "outputs": [],
   "source": [
    "data_url = 'http://yann.lecun.com/exdb/mnist/'\n",
    "dir_name = 'mnist_data'\n",
    "\n",
    "dataset = {\n",
    "    'train_img'   : 'train-images-idx3-ubyte.gz',\n",
    "    'train_label' : 'train-labels-idx1-ubyte.gz',\n",
    "    'test_img'    : 't10k-images-idx3-ubyte.gz',\n",
    "    'test_label'  : 't10k-labels-idx1-ubyte.gz',\n",
    "    }\n",
    "\n",
    "save_file = 'mnist.pkl'"
   ]
  },
  {
   "cell_type": "code",
   "execution_count": 3,
   "metadata": {
    "collapsed": true
   },
   "outputs": [],
   "source": [
    "def download_data(url, dname, fnames):\n",
    "    if not os.path.exists(dname):\n",
    "        os.mkdir(dname)\n",
    "    for fname in fnames:\n",
    "        fpath = os.path.join(dname, fname)\n",
    "        if not os.path.isfile(fpath):\n",
    "            print(\"Downloading\", fname, \"...\")\n",
    "            req.urlretrieve(os.path.join(url,fname) , fpath)\n",
    "    \n",
    "\n",
    "def read_image(dname, fname):\n",
    "    fpath = os.path.join(dname, fname)\n",
    "    with gzip.open(fpath, 'rb') as f:\n",
    "        data = np.frombuffer(f.read(), np.uint8, offset=16)\n",
    "    data = data.reshape(-1, 784)\n",
    "    \n",
    "    return data\n",
    "\n",
    "def read_label(dname, fname):\n",
    "    fpath = os.path.join(dname, fname)\n",
    "    with gzip.open(fpath, 'rb') as f:\n",
    "        data = np.frombuffer(f.read(), np.uint8, offset=8)\n",
    "        \n",
    "    return data\n",
    "\n",
    "def create_pkl(dname, save_file, data):\n",
    "    fpath = os.path.join(dname, save_file)\n",
    "    if os.path.exists(fpath):\n",
    "        return\n",
    "    \n",
    "    with open(fpath, 'wb') as f:\n",
    "        pickle.dump(data, f)"
   ]
  },
  {
   "cell_type": "code",
   "execution_count": 4,
   "metadata": {
    "collapsed": true
   },
   "outputs": [],
   "source": [
    "download_data(data_url, dir_name, dataset.values())\n",
    "\n",
    "mnist_data = {}\n",
    "mnist_data['train_img'] = read_image(dir_name, dataset['train_img'])\n",
    "mnist_data['train_label'] = read_label(dir_name, dataset['train_label'])\n",
    "mnist_data['test_img'] = read_image(dir_name, dataset['test_img'])\n",
    "mnist_data['test_label'] = read_label(dir_name, dataset['test_label'])\n",
    "\n",
    "create_pkl(dir_name, save_file, mnist_data)"
   ]
  },
  {
   "cell_type": "code",
   "execution_count": 5,
   "metadata": {
    "collapsed": true
   },
   "outputs": [],
   "source": [
    "# Load data\n",
    "sfp = os.path.join(dir_name, save_file)\n",
    "with open(sfp, 'rb') as f:\n",
    "    data = pickle.load(f)\n",
    "\n",
    "X_train, y_train = data['train_img'], data['train_label']\n",
    "X_test, y_test = data['test_img'], data['test_label']"
   ]
  },
  {
   "cell_type": "code",
   "execution_count": 6,
   "metadata": {
    "collapsed": true
   },
   "outputs": [],
   "source": [
    "def normalized(data):\n",
    "    data = data.astype(np.float32)\n",
    "    return data / 255."
   ]
  },
  {
   "cell_type": "code",
   "execution_count": 7,
   "metadata": {
    "collapsed": true
   },
   "outputs": [],
   "source": [
    "# Normalized data\n",
    "X_train = normalized(X_train)\n",
    "X_test = normalized(X_test)"
   ]
  },
  {
   "cell_type": "code",
   "execution_count": 8,
   "metadata": {
    "collapsed": true
   },
   "outputs": [],
   "source": [
    "def one_hot(data, n):\n",
    "    one_hot_encoding = np.zeros([data.shape[-1], n])\n",
    "    one_hot_encoding[np.arange(data.shape[-1]), data] = 1 \n",
    "    \n",
    "    return one_hot_encoding"
   ]
  },
  {
   "cell_type": "code",
   "execution_count": 9,
   "metadata": {
    "collapsed": true
   },
   "outputs": [],
   "source": [
    "one_hot_encoding = True\n",
    "\n",
    "if one_hot_encoding:\n",
    "    y_train = one_hot(y_train, 10)\n",
    "    y_test = one_hot(y_test, 10)"
   ]
  },
  {
   "cell_type": "code",
   "execution_count": 10,
   "metadata": {
    "collapsed": false
   },
   "outputs": [
    {
     "name": "stdout",
     "output_type": "stream",
     "text": [
      "Train:  (54000, 784) (54000, 10)\n",
      "Test:  (10000, 784) (10000, 10)\n",
      "Validation:  (6000, 784) (6000, 10)\n"
     ]
    }
   ],
   "source": [
    "# Split data\n",
    "t = int(X_train.shape[0] * 0.9)\n",
    "X_train, X_validation = X_train[:t], X_train[t:]\n",
    "y_train, y_validation = y_train[:t], y_train[t:]\n",
    "\n",
    "print(\"Train: \", X_train.shape, y_train.shape)\n",
    "print(\"Test: \", X_test.shape, y_test.shape)\n",
    "print(\"Validation: \", X_validation.shape, y_validation.shape)"
   ]
  },
  {
   "cell_type": "code",
   "execution_count": 11,
   "metadata": {
    "collapsed": true
   },
   "outputs": [],
   "source": [
    "n_input = X_train.shape[1]\n",
    "n_output = 10\n",
    "n_hidden1 = 64\n",
    "n_hidden2 = 128"
   ]
  },
  {
   "cell_type": "code",
   "execution_count": 12,
   "metadata": {
    "collapsed": true
   },
   "outputs": [],
   "source": [
    "W1_ = np.random.randn(n_input, n_hidden1)\n",
    "b1_ = np.random.randn(n_hidden1)\n",
    "\n",
    "W2_ = np.random.randn(n_hidden1, n_hidden2)\n",
    "b2_ = np.random.randn(n_hidden2)\n",
    "\n",
    "W3_ = np.random.randn(n_hidden2, n_output)\n",
    "b3_ = np.random.randn(n_output)"
   ]
  },
  {
   "cell_type": "code",
   "execution_count": 13,
   "metadata": {
    "collapsed": true
   },
   "outputs": [],
   "source": [
    "X, y = Input(name='X'), Input(name='y')  \n",
    "W1, b1 = Input(name='W1'), Input(name='b1')  \n",
    "W2, b2 = Input(name='W2'), Input(name='b2')  \n",
    "W3, b3 = Input(name='W3'), Input(name='b3')  "
   ]
  },
  {
   "cell_type": "code",
   "execution_count": 14,
   "metadata": {
    "collapsed": true
   },
   "outputs": [],
   "source": [
    "l1 = Linear(X, W1, b1, name='l1')\n",
    "s1 = Sigmoid(l1, name='s1')\n",
    "l2 = Linear(s1, W2, b2, name='l2')\n",
    "s2 = Sigmoid(l2, name='s2')\n",
    "l3 = Linear(s2, W3, b3, name='l3')\n",
    "cost = SoftmaxCrossEntropy(y, l3, name='loss')"
   ]
  },
  {
   "cell_type": "code",
   "execution_count": 15,
   "metadata": {
    "collapsed": true
   },
   "outputs": [],
   "source": [
    "feed_dict = {\n",
    "    X: X_train,\n",
    "    y: y_train,\n",
    "    W1: W1_,\n",
    "    b1: b1_,\n",
    "    W2: W2_,\n",
    "    b2: b2_,\n",
    "    W3: W3_,\n",
    "    b3: b3_\n",
    "}"
   ]
  },
  {
   "cell_type": "code",
   "execution_count": 16,
   "metadata": {
    "collapsed": true
   },
   "outputs": [],
   "source": [
    "# Hyperparameter\n",
    "epochs = 50\n",
    "lr = 0.001\n",
    "batch_size = 100"
   ]
  },
  {
   "cell_type": "code",
   "execution_count": 17,
   "metadata": {
    "collapsed": false
   },
   "outputs": [],
   "source": [
    "m = X_train.shape[0]\n",
    "steps_per_epoch = m // batch_size\n",
    "graph = topological_sort(feed_dict)\n",
    "trainables = [W1, b1, W2, b2, W3, b3]\n",
    "optimizer = Adam(trainables, learning_rate=lr)\n",
    "\n",
    "losses = {'train': [], 'validation': []}"
   ]
  },
  {
   "cell_type": "code",
   "execution_count": 18,
   "metadata": {
    "collapsed": false
   },
   "outputs": [
    {
     "name": "stdout",
     "output_type": "stream",
     "text": [
      "Epoch: 1, Train Loss: 1.915, Validation Loss: 0.724\n",
      "Epoch: 2, Train Loss: 0.634, Validation Loss: 0.468\n",
      "Epoch: 3, Train Loss: 0.470, Validation Loss: 0.375\n",
      "Epoch: 4, Train Loss: 0.375, Validation Loss: 0.318\n",
      "Epoch: 5, Train Loss: 0.323, Validation Loss: 0.284\n",
      "Epoch: 6, Train Loss: 0.279, Validation Loss: 0.260\n",
      "Epoch: 7, Train Loss: 0.246, Validation Loss: 0.239\n",
      "Epoch: 8, Train Loss: 0.220, Validation Loss: 0.225\n",
      "Epoch: 9, Train Loss: 0.207, Validation Loss: 0.208\n",
      "Epoch: 10, Train Loss: 0.187, Validation Loss: 0.199\n",
      "Epoch: 11, Train Loss: 0.170, Validation Loss: 0.188\n",
      "Epoch: 12, Train Loss: 0.157, Validation Loss: 0.178\n",
      "Epoch: 13, Train Loss: 0.146, Validation Loss: 0.177\n",
      "Epoch: 14, Train Loss: 0.130, Validation Loss: 0.170\n",
      "Epoch: 15, Train Loss: 0.126, Validation Loss: 0.168\n",
      "Epoch: 16, Train Loss: 0.112, Validation Loss: 0.163\n",
      "Epoch: 17, Train Loss: 0.107, Validation Loss: 0.157\n",
      "Epoch: 18, Train Loss: 0.098, Validation Loss: 0.157\n",
      "Epoch: 19, Train Loss: 0.093, Validation Loss: 0.153\n",
      "Epoch: 20, Train Loss: 0.086, Validation Loss: 0.156\n",
      "Epoch: 21, Train Loss: 0.082, Validation Loss: 0.151\n",
      "Epoch: 22, Train Loss: 0.076, Validation Loss: 0.149\n",
      "Epoch: 23, Train Loss: 0.070, Validation Loss: 0.152\n",
      "Epoch: 24, Train Loss: 0.065, Validation Loss: 0.151\n",
      "Epoch: 25, Train Loss: 0.063, Validation Loss: 0.149\n",
      "Epoch: 26, Train Loss: 0.058, Validation Loss: 0.147\n",
      "Epoch: 27, Train Loss: 0.053, Validation Loss: 0.147\n",
      "Epoch: 28, Train Loss: 0.049, Validation Loss: 0.145\n",
      "Epoch: 29, Train Loss: 0.046, Validation Loss: 0.146\n",
      "Epoch: 30, Train Loss: 0.044, Validation Loss: 0.144\n",
      "Epoch: 31, Train Loss: 0.042, Validation Loss: 0.144\n",
      "Epoch: 32, Train Loss: 0.040, Validation Loss: 0.147\n",
      "Epoch: 33, Train Loss: 0.036, Validation Loss: 0.144\n",
      "Epoch: 34, Train Loss: 0.033, Validation Loss: 0.149\n",
      "Epoch: 35, Train Loss: 0.031, Validation Loss: 0.146\n",
      "Epoch: 36, Train Loss: 0.030, Validation Loss: 0.145\n",
      "Epoch: 37, Train Loss: 0.028, Validation Loss: 0.149\n",
      "Epoch: 38, Train Loss: 0.026, Validation Loss: 0.146\n",
      "Epoch: 39, Train Loss: 0.025, Validation Loss: 0.144\n",
      "Epoch: 40, Train Loss: 0.022, Validation Loss: 0.149\n",
      "Epoch: 41, Train Loss: 0.021, Validation Loss: 0.147\n",
      "Epoch: 42, Train Loss: 0.019, Validation Loss: 0.147\n",
      "Epoch: 43, Train Loss: 0.018, Validation Loss: 0.147\n",
      "Epoch: 44, Train Loss: 0.017, Validation Loss: 0.151\n",
      "Epoch: 45, Train Loss: 0.016, Validation Loss: 0.150\n",
      "Epoch: 46, Train Loss: 0.015, Validation Loss: 0.152\n",
      "Epoch: 47, Train Loss: 0.015, Validation Loss: 0.149\n",
      "Epoch: 48, Train Loss: 0.013, Validation Loss: 0.152\n",
      "Epoch: 49, Train Loss: 0.011, Validation Loss: 0.153\n",
      "Epoch: 50, Train Loss: 0.012, Validation Loss: 0.153\n"
     ]
    }
   ],
   "source": [
    "# Training\n",
    "for i in range(epochs):\n",
    "    train_loss = 0\n",
    "    val_loss = 0\n",
    "    for j in range(steps_per_epoch):\n",
    "        X_batch, y_batch = resample(X_train, y_train, n_samples=batch_size)\n",
    "        X.value, y.value = X_batch, y_batch\n",
    "        \n",
    "        forward_and_backward(graph)\n",
    "        #sgd_update(trainables, lr)\n",
    "        optimizer.update()\n",
    "        train_loss += graph[-1].value\n",
    "        \n",
    "    train_loss = train_loss / steps_per_epoch\n",
    "    losses['train'].append(train_loss)\n",
    "    \n",
    "    X.value, y.value = X_validation, y_validation\n",
    "    forward_and_backward(graph, training=False)\n",
    "    val_loss = graph[-1].value\n",
    "    losses['validation'].append(val_loss)\n",
    "    \n",
    "    #if (i+1) % batch_size == 0:\n",
    "    print(\"Epoch: {}, Train Loss: {:.3f}, Validation Loss: {:.3f}\".format(i+1, train_loss, val_loss))"
   ]
  },
  {
   "cell_type": "code",
   "execution_count": 19,
   "metadata": {
    "collapsed": false
   },
   "outputs": [
    {
     "data": {
      "text/plain": [
       "<matplotlib.legend.Legend at 0x108e428d0>"
      ]
     },
     "execution_count": 19,
     "metadata": {},
     "output_type": "execute_result"
    },
    {
     "data": {
      "image/png": "[encoded data removed]",
      "text/plain": [
       "<matplotlib.figure.Figure at 0x1127c0358>"
      ]
     },
     "metadata": {},
     "output_type": "display_data"
    }
   ],
   "source": [
    "fig, ax = plt.subplots()\n",
    "x = np.arange(len(losses['train']))\n",
    "ax.plot(x, losses['train'], label='Train')\n",
    "ax.plot(x, losses['validation'], label='Validation')\n",
    "ax.legend()"
   ]
  },
  {
   "cell_type": "code",
   "execution_count": 20,
   "metadata": {
    "collapsed": false
   },
   "outputs": [
    {
     "name": "stdout",
     "output_type": "stream",
     "text": [
      "Test loss: 0.184\n",
      "Accuracy: 0.957\n"
     ]
    }
   ],
   "source": [
    "# Test\n",
    "feed_dict[X] = X_test\n",
    "feed_dict[y] = y_test\n",
    "\n",
    "graph = topological_sort(feed_dict)\n",
    "forward_and_backward(graph, training=False)\n",
    "loss = graph[-1].value\n",
    "\n",
    "if one_hot_encoding:\n",
    "    prediction = graph[-2].value.argmax(axis=1)\n",
    "else:\n",
    "    prediction = graph[-2].value\n",
    "    \n",
    "accuracy = prediction == y_test.argmax(axis=1)\n",
    "accuracy = np.sum(accuracy) / accuracy.shape[0]\n",
    "\n",
    "print(\"Test loss: {:.3f}\".format(loss))\n",
    "print(\"Accuracy: {:.3f}\".format(accuracy))"
   ]
  }
 ],
 "metadata": {
  "kernelspec": {
   "display_name": "Python 3",
   "language": "python",
   "name": "python3"
  },
  "language_info": {
   "codemirror_mode": {
    "name": "ipython",
    "version": 3
   },
   "file_extension": ".py",
   "mimetype": "text/x-python",
   "name": "python",
   "nbconvert_exporter": "python",
   "pygments_lexer": "ipython3",
   "version": "3.6.0"
  }
 },
 "nbformat": 4,
 "nbformat_minor": 2
}
